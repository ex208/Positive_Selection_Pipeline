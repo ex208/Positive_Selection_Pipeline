{
 "cells": [
  {
   "cell_type": "markdown",
   "metadata": {},
   "source": [
    "# Splitting trees for 'complex' CAZy families\n",
    "\n",
    "In this notebook, I'll work up a pair of functions to split a dendrogram into *disjoint* subtrees on two criteria:\n",
    "\n",
    "1. do not allow a subtree to contain paralogues (two sequences from the same organism)\n",
    "2. do not allow a subtree to have a depth greater than some value\n",
    "\n",
    "If either criterion is violated, the subtree in question is broken down into progressively smaller subtrees until a set of subtrees describing all original leaf nodes that do fit those criteria is obtained."
   ]
  },
  {
   "cell_type": "markdown",
   "metadata": {},
   "source": [
    "## Python imports\n",
    "\n",
    "We use `re` to help identify paralogues by sequence ID, and `Bio.Phylo` to process the trees"
   ]
  },
  {
   "cell_type": "code",
   "execution_count": 1,
   "metadata": {
    "collapsed": true
   },
   "outputs": [],
   "source": [
    "import os\n",
    "import re\n",
    "\n",
    "import sys\n",
    "from Bio import SeqIO\n",
    "from Bio import Phylo"
   ]
  },
  {
   "cell_type": "markdown",
   "metadata": {},
   "source": [
    "We load an example tree (GH24 or GH19) with `Bio.Phylo`, and reroot it to a midpoint.\n",
    "\n",
    "Here we are using a protein sequence-based tree constructed using sequence identity as a distance metric. This allows us to treat tree depth as a proxy for functional similarity (see [this paper](http://journals.plos.org/ploscompbiol/article?id=10.1371/journal.pcbi.1000160)). That is not possible with many other ways to construct a tree."
   ]
  },
  {
   "cell_type": "code",
   "execution_count": 2,
   "metadata": {
    "collapsed": false
   },
   "outputs": [
    {
     "name": "stdout",
     "output_type": "stream",
     "text": [
      "59\n"
     ]
    }
   ],
   "source": [
    "tree = Phylo.read(\"GH19.new\", format=\"newick\")\n",
    "tree.root_at_midpoint()\n",
    "Phylo.draw(tree)\n",
    "\n",
    "print(len(tree.get_terminals()))"
   ]
  },
  {
   "cell_type": "markdown",
   "metadata": {},
   "source": [
    "## 1. Split on absence of paralogues\n",
    "\n",
    "Our first goal is to ensure that there are no repeated species in the tree. We can create a function to test for this:"
   ]
  },
  {
   "cell_type": "code",
   "execution_count": 3,
   "metadata": {
    "collapsed": true
   },
   "outputs": [],
   "source": [
    "species_pattern = re.compile(\"_[0-9]*$\")\n",
    "\n",
    "def has_paralogues(tree):\n",
    "    \"\"\"Returns True if the passed tree contains two or more paralogues.\n",
    "    \n",
    "    The identifiers for all leaves in the tree are processed with re\n",
    "    to reduce them to only their organism identifier. The set() of these\n",
    "    identifiers is nonredundant, so if it is the same length as the\n",
    "    number of leaf nodes in the tree, there are no repeated organisms,\n",
    "    and the tree contains no paralogues.\n",
    "    \"\"\"\n",
    "    leaf_names = [re.split(species_pattern, e.name)[0] for e in tree.get_terminals()]\n",
    "    return len(leaf_names) != len(set(leaf_names))"
   ]
  },
  {
   "cell_type": "markdown",
   "metadata": {},
   "source": [
    "If the complete tree has no paralogues, there's no problem to be solved, so we wouldn't need to split the tree. With both of our example trees however, we do have paralogues:"
   ]
  },
  {
   "cell_type": "code",
   "execution_count": 4,
   "metadata": {
    "collapsed": false
   },
   "outputs": [
    {
     "data": {
      "text/plain": [
       "True"
      ]
     },
     "execution_count": 4,
     "metadata": {},
     "output_type": "execute_result"
    }
   ],
   "source": [
    "has_paralogues(tree)"
   ]
  },
  {
   "cell_type": "markdown",
   "metadata": {},
   "source": [
    "When we *do* have paralogues, we want to split the tree into the largest disjoint subtrees that do not contain any paralogues, but still include (collectively) all the sequences from the input tree.\n",
    "\n",
    "In `Bio.Phylo` we need to work with 'clades' from the parent tree. We aim to identify the top-level clades (those just below the root) and determine if they contain paralogues. We write a function to test this:"
   ]
  },
  {
   "cell_type": "code",
   "execution_count": 5,
   "metadata": {
    "collapsed": true
   },
   "outputs": [],
   "source": [
    "def is_top_level(clade, tree):\n",
    "    \"\"\"Returns True if clade is top level in tree\"\"\"\n",
    "    return len(tree.get_path(clade)) == 1"
   ]
  },
  {
   "cell_type": "markdown",
   "metadata": {},
   "source": [
    "Now we check that our function works by drawing the top level clades from the input tree (and noting whether they have paralogues):"
   ]
  },
  {
   "cell_type": "code",
   "execution_count": 6,
   "metadata": {
    "collapsed": false
   },
   "outputs": [
    {
     "name": "stdout",
     "output_type": "stream",
     "text": [
      "False\n",
      "True\n"
     ]
    }
   ],
   "source": [
    "for clade in [c for c in tree.find_clades() if is_top_level(c, tree)]:\n",
    "    subtree = Phylo.BaseTree.Tree(clade)\n",
    "    Phylo.draw(subtree)\n",
    "    print(has_paralogues(subtree))"
   ]
  },
  {
   "cell_type": "markdown",
   "metadata": {},
   "source": [
    "This example works for a fairly straightforward tree, but would require that we visually inspect, and rerun functions in the cases where the top level subtrees don't split nicely into non-paralogue clades.\n",
    "\n",
    "What we want is a single function that returns all the disjoint highest-level non-paralogue clades, given a single tree as input. Then we could call it something like what follows:\n",
    "\n",
    "```python\n",
    "for treefile in os.listdir('data/trees'):\n",
    "    tree = Phylo.read(treefile, format=\"Newick\")\n",
    "    subtrees = split_trees(tree)\n",
    "    for st in subtrees:\n",
    "        Phylo.draw(st)\n",
    "```\n",
    "\n",
    "Firstly we need to write a function that splits the input tree into the disjoint subtrees with no paralogues. We write a *recursive function* to make this computationally straightforward. These kinds of functions are sometimes highly confusing to write and understand, so it's worth taking your time to understand what is going on, here:"
   ]
  },
  {
   "cell_type": "code",
   "execution_count": 7,
   "metadata": {
    "collapsed": true
   },
   "outputs": [],
   "source": [
    "def split_tree_noparalogues(tree, nplist=None):\n",
    "    \"\"\"Return a list of disjoint subtrees with no paralogues\"\"\"\n",
    "    if nplist is None:  # Required to avoid state issues\n",
    "        nplist = list()\n",
    "    if not has_paralogues(tree):  # base case\n",
    "        nplist.append(tree)\n",
    "        return nplist\n",
    "    else:  # recursive case\n",
    "        for clade in [c for c in tree.find_clades()\n",
    "                      if is_top_level(c, tree)]:\n",
    "            subtree = Phylo.BaseTree.Tree(clade)\n",
    "            split_tree_noparalogues(subtree, nplist)\n",
    "    return nplist"
   ]
  },
  {
   "cell_type": "markdown",
   "metadata": {},
   "source": [
    "Applying this function to our tree, we find all the disjoint subtrees:"
   ]
  },
  {
   "cell_type": "code",
   "execution_count": 8,
   "metadata": {
    "collapsed": false,
    "scrolled": false
   },
   "outputs": [
    {
     "name": "stdout",
     "output_type": "stream",
     "text": [
      "Found 5 disjoint subtrees with no shared paralogues\n"
     ]
    }
   ],
   "source": [
    "subtrees = split_tree_noparalogues(tree)\n",
    "print(\"Found {} disjoint subtrees with no shared paralogues\".format(len(subtrees)))\n",
    "for t in subtrees:\n",
    "    Phylo.draw(t)"
   ]
  },
  {
   "cell_type": "markdown",
   "metadata": {},
   "source": [
    "## 2. Split on tree/subtree depth\n",
    "\n",
    "Our next goal is to have no subtrees/trees whose longest branch length from root to tip is greater than some value. We can create a function to test for this in any given tree:"
   ]
  },
  {
   "cell_type": "code",
   "execution_count": 9,
   "metadata": {
    "collapsed": true
   },
   "outputs": [],
   "source": [
    "def is_shorter_than(tree, length):\n",
    "    return max([tree.distance(t) for t in tree.get_terminals()]) < length"
   ]
  },
  {
   "cell_type": "markdown",
   "metadata": {},
   "source": [
    "And we can test it:"
   ]
  },
  {
   "cell_type": "code",
   "execution_count": 10,
   "metadata": {
    "collapsed": false
   },
   "outputs": [
    {
     "data": {
      "text/plain": [
       "True"
      ]
     },
     "execution_count": 10,
     "metadata": {},
     "output_type": "execute_result"
    }
   ],
   "source": [
    "is_shorter_than(tree, 20)"
   ]
  },
  {
   "cell_type": "markdown",
   "metadata": {},
   "source": [
    "We can follow the same model for a recursive function that we used above, except now we halt recursion on the basis of subtree depth, rather than whether it contains paralogues."
   ]
  },
  {
   "cell_type": "code",
   "execution_count": 11,
   "metadata": {
    "collapsed": true
   },
   "outputs": [],
   "source": [
    "def split_tree_depth(tree, branch_length=20, stlist=None):\n",
    "    \"\"\"Returns a list of subtrees with max len branch_length.\"\"\"\n",
    "    if stlist is None:  # Required to avoid problems with state\n",
    "        stlist = list()\n",
    "    if is_shorter_than(tree, branch_length):  # base case\n",
    "        stlist.append(tree)\n",
    "        return stlist\n",
    "    else:  # recursive case\n",
    "        for clade in [c for c in tree.find_clades() if is_top_level(c, tree)]:\n",
    "            st = Phylo.BaseTree.Tree(clade)\n",
    "            split_tree_depth(st, branch_length, stlist)\n",
    "    return stlist"
   ]
  },
  {
   "cell_type": "markdown",
   "metadata": {},
   "source": [
    "Testing this function on the complete tree:"
   ]
  },
  {
   "cell_type": "code",
   "execution_count": 12,
   "metadata": {
    "collapsed": false,
    "scrolled": false
   },
   "outputs": [
    {
     "name": "stdout",
     "output_type": "stream",
     "text": [
      "Subtrees: 1\n",
      "9.366409375\n"
     ]
    }
   ],
   "source": [
    "subtrees = split_tree_depth(tree)\n",
    "\n",
    "print(\"Subtrees:\", len(subtrees))\n",
    "for subtree in subtrees:\n",
    "    Phylo.draw(subtree)\n",
    "    print(max([subtree.distance(t) for t in subtree.get_terminals()]))"
   ]
  },
  {
   "cell_type": "markdown",
   "metadata": {},
   "source": [
    "## 3. Putting it together\n",
    "\n",
    "We'd really like to split on paralogues (or lack of…) first, then split *those* subtrees by subtree length, to give subtrees that contain no paralogues *and* meet a minimum depth requiremend. To do this, we can apply the recursive functions in turn:"
   ]
  },
  {
   "cell_type": "code",
   "execution_count": 13,
   "metadata": {
    "collapsed": false,
    "scrolled": false
   },
   "outputs": [
    {
     "name": "stdout",
     "output_type": "stream",
     "text": [
      "Number of subtrees, split on paralogues: 2\n",
      "Number of subtrees, split on depth: 4\n",
      "has paralogues?: False\n",
      "short tree?: True\n",
      "has paralogues?: False\n",
      "short tree?: True\n",
      "has paralogues?: False\n",
      "short tree?: True\n",
      "has paralogues?: False\n",
      "short tree?: True\n"
     ]
    }
   ],
   "source": [
    "tree = Phylo.read(\"GH24.new\", format=\"newick\")\n",
    "tree.root_at_midpoint()\n",
    "paralogue_splits = split_tree_noparalogues(tree)\n",
    "print(\"Number of subtrees, split on paralogues: {}\".format(len(paralogue_splits)))\n",
    "subtrees = []\n",
    "for ps in paralogue_splits:\n",
    "    subtrees.extend(split_tree_depth(ps))\n",
    "print(\"Number of subtrees, split on depth: {}\".format(len(subtrees)))\n",
    "\n",
    "for st in subtrees:\n",
    "    Phylo.draw(st)\n",
    "    print(\"has paralogues?: {}\".format(has_paralogues(st)))\n",
    "    print(\"short tree?: {}\".format(is_shorter_than(st, 20)))"
   ]
  },
  {
   "cell_type": "markdown",
   "metadata": {},
   "source": [
    "This is all good, but to make it very reusable, we want to wrap the whole thing into a single function:"
   ]
  },
  {
   "cell_type": "code",
   "execution_count": 14,
   "metadata": {
    "collapsed": true
   },
   "outputs": [],
   "source": [
    "def split_tree(tree, branch_length=20):\n",
    "    \"\"\"Split tree into disjoint subtrees with maximum depth and\n",
    "    containing no paralogues.\n",
    "    \"\"\"\n",
    "    paralogue_splits = split_tree_noparalogues(tree)\n",
    "    subtrees = []\n",
    "    for ps in paralogue_splits:\n",
    "        subtrees.extend(split_tree_depth(ps, branch_length))\n",
    "    return subtrees"
   ]
  },
  {
   "cell_type": "markdown",
   "metadata": {},
   "source": [
    "Now we can achieve the goal we had earlier:"
   ]
  },
  {
   "cell_type": "code",
   "execution_count": 15,
   "metadata": {
    "collapsed": true
   },
   "outputs": [],
   "source": [
    "rbbh_data = '../data/cazy_rbbh'"
   ]
  },
  {
   "cell_type": "code",
   "execution_count": 64,
   "metadata": {
    "collapsed": false,
    "scrolled": false
   },
   "outputs": [
    {
     "name": "stdout",
     "output_type": "stream",
     "text": [
      "GH19.new1.txt NCPPB_3531_01645\n",
      "\n",
      "GH19.new1.txt Dd586_1736\n",
      "\n",
      "GH19.new1.txt NCPPB_516_01855\n",
      "\n",
      "GH19.new1.txt CSL_RW192_01755\n",
      "\n",
      "GH19.new1.txt Dd1591_1774\n",
      "\n",
      "GH19.new1.txt NCPPB_3533_01859\n",
      "\n",
      "GH19.new1.txt MK19_01860\n",
      "\n",
      "GH19.new1.txt NCPPB_2538_01628\n",
      "\n",
      "GH19.new1.txt NCPPB_3532_02389\n",
      "\n",
      "GH19.new1.txt NCPPB_402_02558\n",
      "\n",
      "GH19.new1.txt NCPPB_3534_02435\n",
      "\n",
      "GH19.new1.txt IPO_980_02418\n",
      "\n",
      "GH19.new1.txt NCPPB_453_02444\n",
      "\n",
      "GH19.new1.txt GBBC2039_02325\n",
      "\n",
      "GH19.new1.txt GBBC2040_02582\n",
      "\n",
      "GH19.new1.txt IPO_2222_02579\n",
      "\n",
      "GH19.new1.txt MK16_02538\n",
      "\n",
      "GH19.new1.txt MK10_02641\n",
      "\n",
      "GH19.new2.txt NCPPB_3534_04031\n",
      "\n",
      "GH19.new2.txt NCPPB_453_03919\n",
      "\n",
      "GH19.new2.txt GBBC2039_03941\n",
      "\n",
      "GH19.new2.txt IPO_980_03894\n",
      "\n",
      "GH19.new2.txt NCPPB_3274_04137\n",
      "\n",
      "GH19.new2.txt MK7_04062\n",
      "\n",
      "GH19.new2.txt IPO_2222_04021\n",
      "\n",
      "GH19.new2.txt GBBC2040_04025\n",
      "\n",
      "GH19.new2.txt MK10_04072\n",
      "\n",
      "GH19.new2.txt MK16_03955\n",
      "\n",
      "GH19.new2.txt NCPPB_898_04063\n",
      "\n",
      "GH19.new2.txt NCPPB_3537_04026\n",
      "\n",
      "GH19.new2.txt Dda3937_00553\n",
      "\n",
      "GH19.new2.txt NCPPB_2976_04059\n",
      "\n",
      "GH19.new3.txt CSL_RW192_03956\n",
      "\n",
      "GH19.new3.txt NCPPB_3531_03811\n",
      "\n",
      "GH19.new3.txt NCPPB_2538_03755\n",
      "\n",
      "GH19.new3.txt Dd586_3783\n",
      "\n",
      "GH19.new3.txt MK19_03851\n",
      "\n",
      "GH19.new3.txt NCPPB_3532_03804\n",
      "\n",
      "GH19.new3.txt NCPPB_3537_02610\n",
      "\n",
      "GH19.new3.txt NCPPB_2976_02531\n",
      "\n",
      "GH19.new3.txt NCPPB_898_02596\n",
      "\n",
      "GH19.new3.txt Dda3937_03139\n",
      "\n",
      "GH19.new3.txt DW_0440_03622\n",
      "\n",
      "GH19.new3.txt CSL_RW240_03591\n",
      "\n",
      "GH19.new4.txt NCPPB_402_00303\n",
      "\n",
      "GH19.new4.txt NCPPB_3533_00293\n",
      "\n",
      "GH19.new4.txt NCPPB_516_00292\n",
      "\n",
      "GH19.new4.txt Dd1591_0276\n",
      "\n",
      "GH19.new5.txt MK7_04286\n",
      "\n",
      "GH19.new5.txt NCPPB_898_04312\n",
      "\n",
      "GH19.new5.txt NCPPB_3537_04182\n",
      "\n",
      "GH19.new5.txt GBBC2040_04265\n",
      "\n",
      "GH19.new5.txt IPO_2222_04261\n",
      "\n",
      "GH19.new5.txt MK16_04189\n",
      "\n",
      "GH19.new5.txt MK10_04308\n",
      "\n",
      "GH19.new5.txt NCPPB_3274_04363\n",
      "\n",
      "GH19.new5.txt Dda3937_03232\n",
      "\n",
      "GH19.new5.txt Dd703_0358\n",
      "\n",
      "GH19.new5.txt NCPPB_2511_00379\n",
      "\n",
      "GH24.new1.txt DW_0440_04056\n",
      "\n",
      "GH24.new2.txt NCPPB_516_02681\n",
      "\n",
      "GH24.new3.txt NCPPB_402_00446\n",
      "\n",
      "GH24.new3.txt NCPPB_898_03926\n",
      "\n",
      "GH24.new3.txt Dda3937_02170\n",
      "\n",
      "GH24.new3.txt MK7_03920\n",
      "\n",
      "GH24.new3.txt NCPPB_3274_03998\n",
      "\n",
      "GH24.new3.txt MK19_04113\n",
      "\n",
      "GH24.new3.txt NCPPB_2538_04002\n",
      "\n",
      "GH24.new3.txt NCPPB_3533_04178\n",
      "\n",
      "GH24.new3.txt Dd1591_4051\n",
      "\n",
      "GH24.new4.txt NCPPB_2976_02834\n",
      "\n",
      "GH24.new4.txt NCPPB_898_00184\n",
      "\n",
      "GH24.new4.txt NCPPB_569_02553\n",
      "\n",
      "GH24.new4.txt MK19_01583\n",
      "\n",
      "GH24.new4.txt NCPPB_3274_02848\n",
      "\n",
      "GH24.new4.txt CSL_RW192_02385\n",
      "\n",
      "GH24.new4.txt NCPPB_3531_02231\n",
      "\n",
      "GH24.new4.txt NCPPB_2511_04147\n",
      "\n",
      "GH24.new4.txt Dd703_3826\n",
      "\n"
     ]
    }
   ],
   "source": [
    "for treefile in [f for f in os.listdir('.') if\n",
    "                 os.path.splitext(f)[-1] == '.new']:\n",
    "    file_tree = treefile.split(\".\")[0]\n",
    "    tree = Phylo.read(treefile, format=\"newick\")\n",
    "    #print(\"Complete tree for {}:\".format(treefile))\n",
    "    subtrees = split_tree(tree)\n",
    "    #print(\"Subtrees ({})\".format(len(subtrees)))\n",
    "    i = 1   \n",
    "    for st in subtrees:\n",
    "        tdir = str(i)\n",
    "        Phylo.write(st, treefile+tdir+'.nwk', 'newick')\n",
    "        i +=1\n",
    "        leaf_names = [e.name for e in st.get_terminals()]\n",
    "        result_file = file_tree+\"_\"+tdir+ '.rbbh.fasta'\n",
    "        #print(result_file)\n",
    "        #print(treefile+tdir+\" the names are: \" +str(leaf_names))\n",
    "        with open(treefile+tdir+'.txt', 'w') as output:\n",
    "            for name in leaf_names:\n",
    "                #print(treefile+tdir+\" the names are: \" +name)\n",
    "                output.write(name+ '\\n')\n",
    "    for rbbh in os.listdir(rbbh_data):\n",
    "        if rbbh == file_tree+'.rbbh.fasta': \n",
    "            #print(rbbh)\n",
    "            path_rbbh = os.path.join(rbbh_data, rbbh)\n",
    "            rbbh_file = list(SeqIO.parse(path_rbbh, 'fasta'))\n",
    "            for locus in rbbh_file:\n",
    "seqs = []               print(locus.id)\n",
    "for text in os.listdir(\".\"):\n",
    "    if text.endswith(\".txt\"):\n",
    "        with open(text) as f:\n",
    "            lines = f.readlines()\n",
    "            for lin in lines:\n",
    "                print(text,lin)\n",
    "                #if locus.id == lin:\n",
    "                    #print(locus.id, lin)\n",
    "                    #seqs.append(locus)\n",
    "                    #SeqIO.write([locus], f, \"fasta\")\n",
    "                            "
   ]
  },
  {
   "cell_type": "code",
   "execution_count": 25,
   "metadata": {
    "collapsed": true
   },
   "outputs": [],
   "source": []
  },
  {
   "cell_type": "code",
   "execution_count": 42,
   "metadata": {
    "collapsed": false
   },
   "outputs": [],
   "source": [
    "\n",
    "                    \n",
    "               "
   ]
  },
  {
   "cell_type": "code",
   "execution_count": 20,
   "metadata": {
    "collapsed": true
   },
   "outputs": [],
   "source": [
    "#if rbbh == file_tree+'.rbbh.fasta':\n",
    "            #print(rbbh)\n",
    "            #path_rbbh = os.path.join(rbbh_data, rbbh)\n",
    "            #rbbh_file = list(SeqIO.parse(path_rbbh, 'fasta'))\n",
    "                #for locus in rbbh_file:\n",
    "                    #print(locus.id)\n",
    "                   \n",
    "                    #if locus.id == line:\n",
    "                            #seqs.append(dna)\n",
    "                                #SeqIO.write([dna], f, \"fasta\")\n",
    "                    \n",
    "                    #if name == locus.id:\n",
    "                            #print(locus.id, name)\n",
    "                            #seqs.append(locus)\n",
    "                                    \n"
   ]
  }
 ],
 "metadata": {
  "kernelspec": {
   "display_name": "Python 3",
   "language": "python",
   "name": "python3"
  },
  "language_info": {
   "codemirror_mode": {
    "name": "ipython",
    "version": 3
   },
   "file_extension": ".py",
   "mimetype": "text/x-python",
   "name": "python",
   "nbconvert_exporter": "python",
   "pygments_lexer": "ipython3",
   "version": "3.5.1"
  }
 },
 "nbformat": 4,
 "nbformat_minor": 2
}
