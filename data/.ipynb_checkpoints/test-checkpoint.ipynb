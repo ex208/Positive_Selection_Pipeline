{
 "cells": [
  {
   "cell_type": "code",
   "execution_count": 1,
   "metadata": {
    "collapsed": true
   },
   "outputs": [],
   "source": [
    "import sqlite3"
   ]
  },
  {
   "cell_type": "code",
   "execution_count": 2,
   "metadata": {
    "collapsed": true
   },
   "outputs": [],
   "source": [
    "database = \"dickeya.db\""
   ]
  },
  {
   "cell_type": "code",
   "execution_count": 4,
   "metadata": {
    "collapsed": false
   },
   "outputs": [],
   "source": [
    "with sqlite3.connect(database) as conn:\n",
    "    cursor = conn.cursor()"
   ]
  },
  {
   "cell_type": "code",
   "execution_count": 5,
   "metadata": {
    "collapsed": true
   },
   "outputs": [],
   "source": [
    "sql = 'SELECT * FROM rbbh WHERE locus_tag_1=?'\n"
   ]
  },
  {
   "cell_type": "code",
   "execution_count": 6,
   "metadata": {
    "collapsed": true
   },
   "outputs": [],
   "source": [
    "locus_tag = \"Dd586_3840\""
   ]
  },
  {
   "cell_type": "code",
   "execution_count": 7,
   "metadata": {
    "collapsed": false
   },
   "outputs": [
    {
     "data": {
      "text/plain": [
       "<sqlite3.Cursor at 0x104269960>"
      ]
     },
     "execution_count": 7,
     "metadata": {},
     "output_type": "execute_result"
    }
   ],
   "source": [
    "cursor.execute(sql, (locus_tag,))"
   ]
  },
  {
   "cell_type": "code",
   "execution_count": 8,
   "metadata": {
    "collapsed": true
   },
   "outputs": [],
   "source": [
    "results = cursor.fetchall()"
   ]
  },
  {
   "cell_type": "code",
   "execution_count": 9,
   "metadata": {
    "collapsed": false
   },
   "outputs": [
    {
     "data": {
      "text/plain": [
       "[(86012, 'Dd586_3840', 'NCPPB_3537_04085', None),\n",
       " (134450, 'Dd586_3840', 'CSL_RW240_03640', None),\n",
       " (194204, 'Dd586_3840', 'GBBC2039_03987', None),\n",
       " (195752, 'Dd586_3840', 'MK10_04128', None),\n",
       " (215298, 'Dd586_3840', 'GBBC2040_04082', None),\n",
       " (278068, 'Dd586_3840', 'IPO_2222_04078', None),\n",
       " (492612, 'Dd586_3840', 'NCPPB_569_03734', None),\n",
       " (593322, 'Dd586_3840', 'NCPPB_453_03966', None),\n",
       " (702968, 'Dd586_3840', 'NCPPB_2976_04119', None),\n",
       " (721634, 'Dd586_3840', 'CSL_RW192_04012', None),\n",
       " (747386, 'Dd586_3840', 'IPO_980_03942', None),\n",
       " (807236, 'Dd586_3840', 'NCPPB_3534_04079', None),\n",
       " (877310, 'Dd586_3840', 'NCPPB_402_00250', None),\n",
       " (925373, 'Dd586_3840', 'Dda3937_00331', None),\n",
       " (1025906, 'Dd586_3840', 'NCPPB_898_04125', None),\n",
       " (1173222, 'Dd586_3840', 'NCPPB_3532_03867', None),\n",
       " (1235104, 'Dd586_3840', 'NCPPB_2538_03813', None),\n",
       " (1993692, 'Dd586_3840', 'NCPPB_3274_04190', None),\n",
       " (2023822, 'Dd586_3840', 'DW_0440_03673', None),\n",
       " (2099098, 'Dd586_3840', 'Dd1591_0224', None),\n",
       " (2155764, 'Dd586_3840', 'MK7_04115', None),\n",
       " (2193668, 'Dd586_3840', 'NCPPB_2511_00299', None),\n",
       " (2316686, 'Dd586_3840', 'MK16_04011', None),\n",
       " (2441848, 'Dd586_3840', 'NCPPB_516_00244', None),\n",
       " (2467642, 'Dd586_3840', 'Dd703_0278', None),\n",
       " (2588444, 'Dd586_3840', 'NCPPB_3533_00243', None),\n",
       " (2598616, 'Dd586_3840', 'MK19_03953', None),\n",
       " (2657008, 'Dd586_3840', 'NCPPB_3531_03867', None)]"
      ]
     },
     "execution_count": 9,
     "metadata": {},
     "output_type": "execute_result"
    }
   ],
   "source": [
    "results"
   ]
  },
  {
   "cell_type": "code",
   "execution_count": 11,
   "metadata": {
    "collapsed": false
   },
   "outputs": [
    {
     "name": "stdout",
     "output_type": "stream",
     "text": [
      "NCPPB_3537_04085\n",
      "CSL_RW240_03640\n",
      "GBBC2039_03987\n",
      "MK10_04128\n",
      "GBBC2040_04082\n",
      "IPO_2222_04078\n",
      "NCPPB_569_03734\n",
      "NCPPB_453_03966\n",
      "NCPPB_2976_04119\n",
      "CSL_RW192_04012\n",
      "IPO_980_03942\n",
      "NCPPB_3534_04079\n",
      "NCPPB_402_00250\n",
      "Dda3937_00331\n",
      "NCPPB_898_04125\n",
      "NCPPB_3532_03867\n",
      "NCPPB_2538_03813\n",
      "NCPPB_3274_04190\n",
      "DW_0440_03673\n",
      "Dd1591_0224\n",
      "MK7_04115\n",
      "NCPPB_2511_00299\n",
      "MK16_04011\n",
      "NCPPB_516_00244\n",
      "Dd703_0278\n",
      "NCPPB_3533_00243\n",
      "MK19_03953\n",
      "NCPPB_3531_03867\n"
     ]
    }
   ],
   "source": [
    "for i in results:\n",
    "    print(i[2])"
   ]
  },
  {
   "cell_type": "code",
   "execution_count": 24,
   "metadata": {
    "collapsed": false
   },
   "outputs": [
    {
     "data": {
      "text/plain": [
       "{'CSL_RW192_04012',\n",
       " 'CSL_RW240_03640',\n",
       " 'DW_0440_03673',\n",
       " 'Dd1591_0224',\n",
       " 'Dd703_0278',\n",
       " 'Dda3937_00331',\n",
       " 'GBBC2039_03987',\n",
       " 'GBBC2040_04082',\n",
       " 'IPO_2222_04078',\n",
       " 'IPO_980_03942',\n",
       " 'MK10_04128',\n",
       " 'MK16_04011',\n",
       " 'MK19_03953',\n",
       " 'MK7_04115',\n",
       " 'NCPPB_2511_00299',\n",
       " 'NCPPB_2538_03813',\n",
       " 'NCPPB_2976_04119',\n",
       " 'NCPPB_3274_04190',\n",
       " 'NCPPB_3531_03867',\n",
       " 'NCPPB_3532_03867',\n",
       " 'NCPPB_3533_00243',\n",
       " 'NCPPB_3534_04079',\n",
       " 'NCPPB_3537_04085',\n",
       " 'NCPPB_402_00250',\n",
       " 'NCPPB_453_03966',\n",
       " 'NCPPB_516_00244',\n",
       " 'NCPPB_569_03734',\n",
       " 'NCPPB_898_04125'}"
      ]
     },
     "execution_count": 24,
     "metadata": {},
     "output_type": "execute_result"
    }
   ],
   "source": [
    "set([i[2] for i in results])"
   ]
  },
  {
   "cell_type": "code",
   "execution_count": 26,
   "metadata": {
    "collapsed": false
   },
   "outputs": [],
   "source": [
    "seen = {i[2] for i in results}"
   ]
  },
  {
   "cell_type": "code",
   "execution_count": 27,
   "metadata": {
    "collapsed": true
   },
   "outputs": [],
   "source": [
    "locus_tag = \"Dd586_3841\""
   ]
  },
  {
   "cell_type": "code",
   "execution_count": 28,
   "metadata": {
    "collapsed": false
   },
   "outputs": [
    {
     "data": {
      "text/plain": [
       "<sqlite3.Cursor at 0x104269960>"
      ]
     },
     "execution_count": 28,
     "metadata": {},
     "output_type": "execute_result"
    }
   ],
   "source": [
    "cursor.execute(sql, (locus_tag,))"
   ]
  },
  {
   "cell_type": "code",
   "execution_count": 29,
   "metadata": {
    "collapsed": true
   },
   "outputs": [],
   "source": [
    "results = cursor.fetchall()"
   ]
  },
  {
   "cell_type": "code",
   "execution_count": 30,
   "metadata": {
    "collapsed": false
   },
   "outputs": [
    {
     "data": {
      "text/plain": [
       "[(232176, 'Dd586_3841', 'MK7_04116', None),\n",
       " (516670, 'Dd586_3841', 'NCPPB_3533_00242', None),\n",
       " (543044, 'Dd586_3841', 'NCPPB_2511_00298', None),\n",
       " (558256, 'Dd586_3841', 'CSL_RW192_04013', None),\n",
       " (864952, 'Dd586_3841', 'NCPPB_402_00249', None),\n",
       " (923218, 'Dd586_3841', 'NCPPB_898_04126', None),\n",
       " (1179622, 'Dd586_3841', 'NCPPB_3534_04080', None),\n",
       " (1338212, 'Dd586_3841', 'MK19_03954', None),\n",
       " (1457760, 'Dd586_3841', 'MK16_04012', None),\n",
       " (1472274, 'Dd586_3841', 'NCPPB_569_03735', None),\n",
       " (1488410, 'Dd586_3841', 'DW_0440_03674', None),\n",
       " (1514066, 'Dd586_3841', 'GBBC2039_03988', None),\n",
       " (1524461, 'Dd586_3841', 'Dda3937_00330', None),\n",
       " (1579222, 'Dd586_3841', 'NCPPB_3532_03868', None),\n",
       " (1614554, 'Dd586_3841', 'MK10_04129', None),\n",
       " (1744742, 'Dd586_3841', 'NCPPB_516_00243', None),\n",
       " (1782132, 'Dd586_3841', 'Dd1591_0223', None),\n",
       " (1782728, 'Dd586_3841', 'CSL_RW240_03641', None),\n",
       " (1926700, 'Dd586_3841', 'NCPPB_3537_04086', None),\n",
       " (2009756, 'Dd586_3841', 'IPO_980_03943', None),\n",
       " (2114504, 'Dd586_3841', 'NCPPB_3531_03868', None),\n",
       " (2144124, 'Dd586_3841', 'NCPPB_453_03967', None),\n",
       " (2189516, 'Dd586_3841', 'Dd703_0277', None),\n",
       " (2269118, 'Dd586_3841', 'NCPPB_2976_04120', None),\n",
       " (2634136, 'Dd586_3841', 'NCPPB_2538_03814', None),\n",
       " (2676436, 'Dd586_3841', 'IPO_2222_04079', None),\n",
       " (2760632, 'Dd586_3841', 'NCPPB_3274_04191', None),\n",
       " (2772194, 'Dd586_3841', 'GBBC2040_04083', None)]"
      ]
     },
     "execution_count": 30,
     "metadata": {},
     "output_type": "execute_result"
    }
   ],
   "source": [
    "results"
   ]
  },
  {
   "cell_type": "code",
   "execution_count": 31,
   "metadata": {
    "collapsed": true
   },
   "outputs": [],
   "source": [
    "s = {j[2] for j in results}"
   ]
  },
  {
   "cell_type": "code",
   "execution_count": 33,
   "metadata": {
    "collapsed": false
   },
   "outputs": [
    {
     "data": {
      "text/plain": [
       "False"
      ]
     },
     "execution_count": 33,
     "metadata": {},
     "output_type": "execute_result"
    }
   ],
   "source": [
    "s == seen"
   ]
  },
  {
   "cell_type": "code",
   "execution_count": 34,
   "metadata": {
    "collapsed": false
   },
   "outputs": [
    {
     "data": {
      "text/plain": [
       "set()"
      ]
     },
     "execution_count": 34,
     "metadata": {},
     "output_type": "execute_result"
    }
   ],
   "source": [
    "s.intersection(seen)"
   ]
  },
  {
   "cell_type": "code",
   "execution_count": 35,
   "metadata": {
    "collapsed": false
   },
   "outputs": [
    {
     "data": {
      "text/plain": [
       "False"
      ]
     },
     "execution_count": 35,
     "metadata": {},
     "output_type": "execute_result"
    }
   ],
   "source": [
    "locus_tag in seen"
   ]
  },
  {
   "cell_type": "code",
   "execution_count": 36,
   "metadata": {
    "collapsed": false
   },
   "outputs": [
    {
     "data": {
      "text/plain": [
       "{'CSL_RW192_04012',\n",
       " 'CSL_RW192_04013',\n",
       " 'CSL_RW240_03640',\n",
       " 'CSL_RW240_03641',\n",
       " 'DW_0440_03673',\n",
       " 'DW_0440_03674',\n",
       " 'Dd1591_0223',\n",
       " 'Dd1591_0224',\n",
       " 'Dd703_0277',\n",
       " 'Dd703_0278',\n",
       " 'Dda3937_00330',\n",
       " 'Dda3937_00331',\n",
       " 'GBBC2039_03987',\n",
       " 'GBBC2039_03988',\n",
       " 'GBBC2040_04082',\n",
       " 'GBBC2040_04083',\n",
       " 'IPO_2222_04078',\n",
       " 'IPO_2222_04079',\n",
       " 'IPO_980_03942',\n",
       " 'IPO_980_03943',\n",
       " 'MK10_04128',\n",
       " 'MK10_04129',\n",
       " 'MK16_04011',\n",
       " 'MK16_04012',\n",
       " 'MK19_03953',\n",
       " 'MK19_03954',\n",
       " 'MK7_04115',\n",
       " 'MK7_04116',\n",
       " 'NCPPB_2511_00298',\n",
       " 'NCPPB_2511_00299',\n",
       " 'NCPPB_2538_03813',\n",
       " 'NCPPB_2538_03814',\n",
       " 'NCPPB_2976_04119',\n",
       " 'NCPPB_2976_04120',\n",
       " 'NCPPB_3274_04190',\n",
       " 'NCPPB_3274_04191',\n",
       " 'NCPPB_3531_03867',\n",
       " 'NCPPB_3531_03868',\n",
       " 'NCPPB_3532_03867',\n",
       " 'NCPPB_3532_03868',\n",
       " 'NCPPB_3533_00242',\n",
       " 'NCPPB_3533_00243',\n",
       " 'NCPPB_3534_04079',\n",
       " 'NCPPB_3534_04080',\n",
       " 'NCPPB_3537_04085',\n",
       " 'NCPPB_3537_04086',\n",
       " 'NCPPB_402_00249',\n",
       " 'NCPPB_402_00250',\n",
       " 'NCPPB_453_03966',\n",
       " 'NCPPB_453_03967',\n",
       " 'NCPPB_516_00243',\n",
       " 'NCPPB_516_00244',\n",
       " 'NCPPB_569_03734',\n",
       " 'NCPPB_569_03735',\n",
       " 'NCPPB_898_04125',\n",
       " 'NCPPB_898_04126'}"
      ]
     },
     "execution_count": 36,
     "metadata": {},
     "output_type": "execute_result"
    }
   ],
   "source": [
    "s.union(seen)"
   ]
  },
  {
   "cell_type": "code",
   "execution_count": 39,
   "metadata": {
    "collapsed": false
   },
   "outputs": [
    {
     "data": {
      "text/plain": [
       "True"
      ]
     },
     "execution_count": 39,
     "metadata": {},
     "output_type": "execute_result"
    }
   ],
   "source": [
    "locus_tag in seen"
   ]
  },
  {
   "cell_type": "code",
   "execution_count": 38,
   "metadata": {
    "collapsed": true
   },
   "outputs": [],
   "source": [
    "seen.add(locus_tag)"
   ]
  },
  {
   "cell_type": "code",
   "execution_count": null,
   "metadata": {
    "collapsed": true
   },
   "outputs": [],
   "source": []
  }
 ],
 "metadata": {
  "kernelspec": {
   "display_name": "Python 3",
   "language": "python",
   "name": "python3"
  },
  "language_info": {
   "codemirror_mode": {
    "name": "ipython",
    "version": 3
   },
   "file_extension": ".py",
   "mimetype": "text/x-python",
   "name": "python",
   "nbconvert_exporter": "python",
   "pygments_lexer": "ipython3",
   "version": "3.5.1"
  }
 },
 "nbformat": 4,
 "nbformat_minor": 0
}
