{
 "cells": [
  {
   "cell_type": "code",
   "execution_count": null,
   "metadata": {
    "collapsed": false
   },
   "outputs": [],
   "source": [
    "import os\n",
    "data_dir = \"../data\"\n",
    "with open('../data/locus_Dickeya_not_det.txt', 'w') as outfile:\n",
    "    for locus_txt in os.listdir(data_dir):\n",
    "        if locus_txt.startswith(\"PL\") or locus_txt.startswith(\"CE\"):\n",
    "            locus_list = locus_txt.split()\n",
    "            for locus in locus_list :\n",
    "                locus_dir = os.path.join(data_dir, locus)\n",
    "                with open(locus_dir) as infile:\n",
    "                    outfile.write(infile.read())"
   ]
  },
  {
   "cell_type": "code",
   "execution_count": 1,
   "metadata": {
    "collapsed": true
   },
   "outputs": [],
   "source": [
    "import subprocess\n",
    "import os"
   ]
  },
  {
   "cell_type": "code",
   "execution_count": null,
   "metadata": {
    "collapsed": false
   },
   "outputs": [],
   "source": [
    "data_dir = \"../data\"\n",
    "print(os.path.join(data_dir, \"locus_Dickeya_CAZy.txt\"))\n",
    "with open(os.path.join(data_dir, \"locus_Dickeya_CAZy.txt\"), 'r') as fh:\n",
    "    for line in fh:\n",
    "        line = line.strip()\n",
    "        cmd = \"python3 ./extract_rbbh.py --db dickeya.db --seqfile dickeya_cds_aa.fasta --locus_tag %s  -v -l %s.log\" %(line, line)\n",
    "        print(cmd)\n",
    "        subprocess.call(cmd, shell=True)\n"
   ]
  },
  {
   "cell_type": "code",
   "execution_count": null,
   "metadata": {
    "collapsed": false
   },
   "outputs": [],
   "source": [
    "import os\n",
    "\n",
    "data_dir = \"../data\"\n",
    "with open('../data/locus_Dickeya_not_det.txt', 'w') as outfile:\n",
    "    for locus_txt in os.listdir(data_dir):\n",
    "        if locus_txt.startswith(\"PL\") or locus_txt.startswith(\"CE\"):\n",
    "            locus_list = locus_txt.split()\n",
    "            for locus in locus_list:\n",
    "                locus_dir = os.path.join(data_dir, locus)\n",
    "                with open(locus_dir) as infile:\n",
    "                    lines = infile.read()\n",
    "                    outfile.write(lines)\n",
    "f = open('../data/locus_Dickeya_not_det.txt',\"r+\")\n",
    "d = f.readlines()\n",
    "f.seek(0)\n",
    "for i in d:\n",
    "    if i != \"A4U42_16960\" + \"\\n\":\n",
    "        f.write(i)\n",
    "f.truncate()\n",
    "f.close()"
   ]
  },
  {
   "cell_type": "code",
   "execution_count": null,
   "metadata": {
    "collapsed": false
   },
   "outputs": [],
   "source": [
    "f = open('../data/locus_Dickeya_not_det.txt',\"r+\")\n",
    "d = f.readlines()\n",
    "f.seek(0)\n",
    "for i in d:\n",
    "    if i != \"A4U42_16960\" + \"\\n\":\n",
    "        f.write(i)\n",
    "f.truncate()\n",
    "f.close()"
   ]
  },
  {
   "cell_type": "code",
   "execution_count": null,
   "metadata": {
    "collapsed": true
   },
   "outputs": [],
   "source": [
    "import os\n",
    "from io import StringIO\n",
    "import shutil\n",
    "import pandas as pd\n",
    "\n",
    "from Bio.SeqRecord import SeqRecord\n",
    "from Bio.Seq import Seq\n",
    "from Bio import SeqIO\n",
    "import bioservices\n",
    "# Using BioServices, rather than a manual online search to get data\n",
    "from bioservices import UniProt"
   ]
  },
  {
   "cell_type": "code",
   "execution_count": null,
   "metadata": {
    "collapsed": true
   },
   "outputs": [],
   "source": [
    "# Using UniProt BioServices to get data, rather than manual search\n",
    "u = UniProt()\n",
    "query_result = u.search('database:(type:cazy) AND taxonomy:\"Dickeya [204037]\"',\n",
    "                  frmt='tab',\n",
    "                  columns=\"id, entry name, genes(OLN), protein names, database(CAZy), sequence\")\n",
    "result = pd.read_csv(StringIO(query_result), sep=\"\\t\")\n",
    "\n",
    "# Get all proteins without a locus tag\n",
    "nolocus = result[pd.isnull(result[\"Gene names  (ordered locus )\"])]\n",
    "nolocus = nolocus.reset_index()\n",
    "\n",
    "# Get all proteins with a locus tag\n",
    "locus = result[pd.notnull(result[\"Gene names  (ordered locus )\"])]\n",
    "locus = locus.reset_index()\n",
    "\n",
    "# Write sequences with no locus tag to FASTA file\n",
    "seqlist = list()\n",
    "for idx, entry in result[pd.isnull(result[\"Gene names  (ordered locus )\"])].iterrows():\n",
    "    seqlist.append(SeqRecord(id=entry[\"Entry name\"],\n",
    "                             description=entry[\"Protein names\"],\n",
    "                             seq=Seq(entry[\"Sequence\"])))\n",
    "#SeqIO.write(seqlist, \"all_uniprot_nolocus_results.fasta\", \"fasta\")\n",
    "#shutil.move(\"./all_uniprot_nolocus_results.fasta\", \"./data\")\n"
   ]
  },
  {
   "cell_type": "code",
   "execution_count": null,
   "metadata": {
    "collapsed": false
   },
   "outputs": [],
   "source": [
    "def split_cazy_families(df):\n",
    "    \"\"\"Returns a DataFrame with one CAZy family per row.\n",
    "    UniProt sequences will be duplicated, where they are members of more than one family\n",
    "    \"\"\"\n",
    "    df = df.reset_index()\n",
    "    for idx, entry in df.iterrows():\n",
    "        cazy_families = [e for e in entry[\"Cross-reference (CAZy)\"].strip().split(';') if e]\n",
    "        df.set_value(idx, \"Cross-reference (CAZy)\", cazy_families[0])\n",
    "        if len(cazy_families) > 1:\n",
    "            for family in cazy_families[1:]:\n",
    "                new_entry = entry.copy()\n",
    "                new_entry[\"Cross-reference (CAZy)\"] = family\n",
    "                df = df.append(new_entry, ignore_index=True)\n",
    "    return df\n",
    "\n",
    "nolocus_split = split_cazy_families(result[pd.isnull(result[\"Gene names  (ordered locus )\"])])\n",
    "locus_split = split_cazy_families(result[pd.notnull(result[\"Gene names  (ordered locus )\"])])"
   ]
  },
  {
   "cell_type": "code",
   "execution_count": null,
   "metadata": {
    "collapsed": true
   },
   "outputs": [],
   "source": [
    "path = \".\"\n",
    "path_data = \"../data\"\n",
    "cazy_locus_tags = os.path.join(path_data, \"cazy_locus_tags\")\n",
    "os.makedirs(cazy_locus_tags)"
   ]
  },
  {
   "cell_type": "code",
   "execution_count": null,
   "metadata": {
    "collapsed": false
   },
   "outputs": [],
   "source": [
    "mydict = {}\n",
    "for x in range(len(locus_split)):\n",
    "    currentid = locus_split.iloc[x, 3]\n",
    "    currentvalue = locus_split.iloc[x, 5]\n",
    "    mydict.setdefault(currentid, [])\n",
    "    mydict[currentid].append(currentvalue)\n",
    "for key, value in mydict.items():\n",
    "    for i in os.listdir(path):\n",
    "        if i.endswith(\"rbbh.fasta\"):\n",
    "            infstem = i.split('.', 1)[0]\n",
    "            if key == infstem:\n",
    "                if len(value) > 1:\n",
    "                    #print(len(value), key, value)\n",
    "                    value1 = value[0]\n",
    "                    #print(value1)\n",
    "                    value2 = value[1]\n",
    "                    #print(value2)\n",
    "                    string_value1 = ''.join(value1)\n",
    "                    string_value2 = ''.join(value2)\n",
    "                    dest_dir1 = os.path.join(cazy_locus_tags, string_value1)\n",
    "                    #print(dest_dir1)\n",
    "                    dest_dir2 = os.path.join(cazy_locus_tags, string_value2)\n",
    "                    #print(dest_dir2)\n",
    "                    dest_file1 = os.path.join(dest_dir1, i)\n",
    "                    #print(dest_file1)\n",
    "                    dest_file2 = os.path.join(dest_dir2, i)\n",
    "                    #print(dest_file2)\n",
    "                    if not os.path.exists(dest_dir1):\n",
    "                        os.makedirs(dest_dir1)\n",
    "                    if not os.path.exists(dest_dir2):\n",
    "                        os.makedirs(dest_dir2)\n",
    "                    #print(os.path.join(path, i), dest_dir1)\n",
    "                    #print(os.path.join(path, i), dest_dir2)\n",
    "                    #shutil.copy(os.path.join(path, i), dest_dir1)\n",
    "                    #shutil.copy(os.path.join(path, i), dest_dir2)\n",
    "                if len(value) == 1:\n",
    "                    #print(key, value)\n",
    "                    string_value = ''.join(value)\n",
    "                    dest_dir = os.path.join(cazy_locus_tags, string_value)\n",
    "                    dest_file = os.path.join(dest_dir, i)\n",
    "                #print(key, i, value, dest_file, os.path.exists(dest_dir), os.path.exists(dest_file))\n",
    "                #os.makedirs(dest_dir, exist_ok=True)\n",
    "                    if not os.path.exists(dest_file):\n",
    "                        #print(dest_dir)\n",
    "                        os.makedirs(dest_dir, exist_ok=True)\n",
    "                    #assert os.path.exists(os.path.join(path, i)), os.path.join(path, i)\n",
    "                    shutil.copy(os.path.join(path, i), dest_dir)\n",
    "                "
   ]
  },
  {
   "cell_type": "code",
   "execution_count": null,
   "metadata": {
    "collapsed": true
   },
   "outputs": [],
   "source": [
    "mydict = {}\n",
    "for x in range(len(locus_split)):\n",
    "    currentid = locus_split.iloc[x,3]\n",
    "    currentvalue = locus_split.iloc[x,5]\n",
    "    mydict.setdefault(currentid, [])\n",
    "    mydict[currentid].append(currentvalue)\n",
    "#mydict\n",
    "for key, value in mydict.items():\n",
    "    #print(key)\n",
    "    for i in os.listdir(path):\n",
    "        if i.endswith(\"rbbh.fasta\"):\n",
    "            #assert os.path.exists(os.path.join(path, i))\n",
    "            infstem = i.split('.',1)[0]\n",
    "            if key == infstem:\n",
    "                if len(value) > 1:\n",
    "                    value1 = value[0]\n",
    "                    value2 = value[1]\n",
    "                    string_value1 = ''.join(value1)\n",
    "                    string_value2 = ''.join(value2)\n",
    "                    dest_dir1 = os.path.join(path, string_value1)\n",
    "                    dest_dir2 = os.path.join(path, string_value2)\n",
    "                    dest_file1 = os.path.join(dest_dir1, i)\n",
    "                    dest_file2 = os.path.join(dest_dir2, i)\n",
    "                    if not os.path.exists(dest_dir1):\n",
    "                        os.makedirs(dest_dir1)\n",
    "                    if not os.path.exists(dest_dir2):\n",
    "                        os.makedirs(dest_dir2)\n",
    "                    #print(key, i, dest_file, os.path.exists(dest_dir1),os.path.exists(dest_dir1), os.path.exists(dest_file1),os.path.exists(dest_file2))\n",
    "                    shutil.copy(os.path.join(path, i), dest_file1)\n",
    "                    shutil.copy(os.path.join(path, i), dest_file2)\n",
    "                "
   ]
  },
  {
   "cell_type": "code",
   "execution_count": 2,
   "metadata": {
    "collapsed": true
   },
   "outputs": [],
   "source": [
    "data_dir = \"../data\""
   ]
  },
  {
   "cell_type": "code",
   "execution_count": 36,
   "metadata": {
    "collapsed": false
   },
   "outputs": [],
   "source": [
    "path = \".\"\n",
    "cazy_locus_tags = os.path.join(data_dir, \"cazy_locus_tags\")"
   ]
  },
  {
   "cell_type": "code",
   "execution_count": 43,
   "metadata": {
    "collapsed": true
   },
   "outputs": [],
   "source": [
    "import shutil"
   ]
  },
  {
   "cell_type": "code",
   "execution_count": 44,
   "metadata": {
    "collapsed": false
   },
   "outputs": [],
   "source": [
    "for locus_txt in os.listdir(data_dir):\n",
    "    if locus_txt.startswith(\"PL\") or locus_txt.startswith(\"CE\"):\n",
    "        with open(os.path.join(data_dir,locus_txt)) as infile:\n",
    "                    lines = infile.read()\n",
    "                    locus_id = locus_txt.split(\"_\")[0]\n",
    "                    for rbbh in os.listdir(\".\"):\n",
    "                        if rbbh.endswith(\"rbbh.fasta\"):\n",
    "                            rbbh_id = rbbh.split(\".\")[0]\n",
    "                            if rbbh_id in lines:\n",
    "                                dest_dir3 = os.path.join(cazy_locus_tags,locus_id )\n",
    "                                if not os.path.exists(dest_dir3):\n",
    "                                    os.makedirs(dest_dir3)\n",
    "                                shutil.copy(os.path.join(path, rbbh), dest_dir3)\n",
    "                                "
   ]
  },
  {
   "cell_type": "code",
   "execution_count": null,
   "metadata": {
    "collapsed": true
   },
   "outputs": [],
   "source": []
  }
 ],
 "metadata": {
  "kernelspec": {
   "display_name": "Python 3",
   "language": "python",
   "name": "python3"
  },
  "language_info": {
   "codemirror_mode": {
    "name": "ipython",
    "version": 3
   },
   "file_extension": ".py",
   "mimetype": "text/x-python",
   "name": "python",
   "nbconvert_exporter": "python",
   "pygments_lexer": "ipython3",
   "version": "3.5.1"
  }
 },
 "nbformat": 4,
 "nbformat_minor": 0
}
